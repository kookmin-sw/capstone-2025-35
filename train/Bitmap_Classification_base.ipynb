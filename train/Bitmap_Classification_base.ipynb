{
 "cells": [
  {
   "cell_type": "code",
   "execution_count": 1,
   "id": "3b13b821-af7e-4d5a-b7d6-24ebe2243123",
   "metadata": {},
   "outputs": [
    {
     "name": "stderr",
     "output_type": "stream",
     "text": [
      "/Users/minsuhong/Library/Python/3.9/lib/python/site-packages/tqdm/auto.py:21: TqdmWarning: IProgress not found. Please update jupyter and ipywidgets. See https://ipywidgets.readthedocs.io/en/stable/user_install.html\n",
      "  from .autonotebook import tqdm as notebook_tqdm\n"
     ]
    }
   ],
   "source": [
    "import pandas as pd\n",
    "import numpy as np\n",
    "\n",
    "import matplotlib.pyplot as plt\n",
    "\n",
    "import sys\n",
    "from pathlib import Path\n",
    "import os\n",
    "import xxhash\n",
    "import random\n",
    "\n",
    "from tqdm.auto import tqdm\n",
    "tqdm.pandas()\n",
    "\n",
    "import warnings\n",
    "warnings.filterwarnings('ignore')\n",
    "\n",
    "from sklearn.model_selection import train_test_split\n",
    "from sklearn.model_selection import StratifiedKFold\n",
    "\n",
    "from sklearn.metrics import precision_score, recall_score, f1_score, accuracy_score, confusion_matrix\n",
    "\n",
    "import seaborn as sns\n",
    "\n",
    "from bitarray import bitarray\n",
    "from pympler import asizeof\n",
    "\n",
    "from time import time"
   ]
  },
  {
   "cell_type": "code",
   "execution_count": 2,
   "id": "2d770182-c64f-42e0-8504-29cd1fa1094f",
   "metadata": {},
   "outputs": [],
   "source": [
    "# [Desc.] :: Set Random Seed\n",
    "\n",
    "np.random.seed(0)\n",
    "random.seed(0)"
   ]
  },
  {
   "cell_type": "code",
   "execution_count": 3,
   "id": "e0968bfd-3738-4faf-b1f4-beaec1c4aedb",
   "metadata": {},
   "outputs": [],
   "source": [
    "# Target Application SNI\n",
    "TARGET_SNI = {\n",
    "    \"youtube\": [\"googlevideo.com\"],\n",
    "    \"youtube_tls\": [\"googlevideo.com\"],\n",
    "    \"instagram\": [\"fbcdn.net\"],\n",
    "    \"instagram_tls\": [\"fbcdn.net\"],\n",
    "    \"netflix\": [\"nflxvideo.net\"],\n",
    "    \"navertv\": [\"naver-vod.pstatic.net\", \"smartmediarep.com\"],\n",
    "    \"soop\": [\"stream.sooplive.co.kr\"],\n",
    "    \"steam\": [\"steambroadcast.akamaized.net\"],\n",
    "    \"wavve\": [\"vod.cdn.wavve.com\"],\n",
    "    \"coupangplay\": [\"cosmos.coupangstreaming.com\"],\n",
    "}\n",
    "\n",
    "TARGET_COL = [\n",
    "    'Source IP', 'Source Port', 'Destination IP', 'Destination Port', 'Protocol', 'SPLT-Len', 'SPLT-Data', 'SNI', 'Rx-Bytes'\n",
    "]\n",
    "\n",
    "FIRST_PKT_N = 100\n",
    "MIN_FLOW_LEN = 20\n",
    "TOP_N_FLOWS = 20\n",
    "\n",
    "N_FOLD = 5\n",
    "\n",
    "DISC_RANGE = 13"
   ]
  },
  {
   "cell_type": "code",
   "execution_count": 4,
   "id": "a7dd3681-8dba-41a9-a55b-8df602bc56d8",
   "metadata": {},
   "outputs": [],
   "source": [
    "# [Desc.] :: Class Structure of Bitmap Classifier\n",
    "\n",
    "class BitmapClassifier:\n",
    "\n",
    "    def __init__(self, dr, max_len, n_gram, n_classes):\n",
    "        self.dr = dr\n",
    "        self.max_len = max_len\n",
    "        self.n_gram = n_gram\n",
    "        self.n_classes = n_classes\n",
    "\n",
    "        self.L = dr ** n_gram\n",
    "        \n",
    "        self.bitmap_total = [ bitarray(self.L) for _ in range(n_classes) ]\n",
    "        self.bitmap_in = [ bitarray(self.L) for _ in range(n_classes) ]\n",
    "        self.bitmap_out = [ bitarray(self.L) for _ in range(n_classes) ]\n",
    "\n",
    "        return\n",
    "    \n",
    "    def train(self, X, y):\n",
    "        total_scratcher, in_scratcher, out_scratcher = bitarray(self.L), bitarray(self.L), bitarray(self.L)\n",
    "        for x_data, y_data in zip(X, y):\n",
    "            self.bitmap_total[y_data] = self.bitmap_total[y_data] | x_data[0]\n",
    "            self.bitmap_in[y_data] = self.bitmap_in[y_data] | x_data[1]\n",
    "            self.bitmap_out[y_data] = self.bitmap_out[y_data] | x_data[2]\n",
    "\n",
    "        return\n",
    "    \n",
    "    def test(self, X):\n",
    "        y_pred = []\n",
    "        max_score_arr = []\n",
    "        cls_score_arr = []\n",
    "        for x_data in X:\n",
    "            max_class, max_score = -1, -1\n",
    "            cls_scores = []\n",
    "            for cls in range(self.n_classes):\n",
    "                score = (x_data[0] & self.bitmap_total[cls]).count(1) + (x_data[1] & self.bitmap_in[cls]).count(1) + (x_data[2] & self.bitmap_out[cls]).count(1)\n",
    "                cls_scores.append(score)\n",
    "                if score > max_score:\n",
    "                    max_score = score\n",
    "                    max_class = cls\n",
    "        \n",
    "            y_pred += [max_class]\n",
    "            max_score_arr.append(max_score)\n",
    "            cls_score_arr.append(cls_scores)\n",
    "\n",
    "        return y_pred, max_score_arr, cls_score_arr\n",
    "\n",
    "    def clear(self):\n",
    "        self.bitmap_total = [ bitarray(self.L) for _ in range(self.n_classes) ]\n",
    "        self.bitmap_in = [ bitarray(self.L) for _ in range(self.n_classes) ]\n",
    "        self.bitmap_out = [ bitarray(self.L) for _ in range(self.n_classes) ]\n",
    "\n",
    "        return\n",
    "\n",
    "    def bitarray_converting(self, data):\n",
    "        res = bitarray(self.L)\n",
    "\n",
    "        for d in [data[idx:idx+self.n_gram] for idx in range(0, min(len(data), self.max_len)-self.n_gram+1)]:\n",
    "            res[sum([ (( self.dr ** idx ) if idx > 0 else 1) * val for idx, val in enumerate(reversed(d))])] = 1\n",
    "\n",
    "        return res\n",
    "\n",
    "    def data_factoring(self, df):\n",
    "        label_dict = {}\n",
    "        for idx, key in enumerate(sorted(df[\"Label\"].unique())):\n",
    "            label_dict[key] = idx\n",
    "            \n",
    "        X_total = df[\"Desc_freq\"].apply( lambda x: self.bitarray_converting(x) )\n",
    "        X_in = df[\"Desc_freq_In\"].apply( lambda x: self.bitarray_converting(x) )\n",
    "        X_out = df[\"Desc_freq_Out\"].apply( lambda x: self.bitarray_converting(x) )\n",
    "        \n",
    "        return [ (a, b, c) for a, b, c in zip(X_total, X_in, X_out) ], df[\"Label\"].apply(lambda x: label_dict[x]).to_numpy()\n",
    "    "
   ]
  },
  {
   "cell_type": "code",
   "execution_count": null,
   "id": "a365c08b-10bb-4a0d-8293-65aaebf2bd90",
   "metadata": {},
   "outputs": [],
   "source": [
    "# Load csv files\n",
    "csv_folder = Path(\"../csv\") # csv 폴더가 있는 경로\n",
    "csv_files = list(csv_folder.glob(\"**/*.csv\"))"
   ]
  },
  {
   "cell_type": "code",
   "execution_count": 6,
   "id": "d944bdc6",
   "metadata": {},
   "outputs": [],
   "source": [
    "def get_flow(csv, app_name):\n",
    "    df = pd.read_csv(csv, usecols=TARGET_COL)\n",
    "    sni_list = TARGET_SNI.get(app_name)\n",
    "    if sni_list is None:\n",
    "        raise ValueError(f\"Invalid Application Name: {app_name}\")\n",
    "    try:\n",
    "        df = df[df['SNI'].fillna('').astype(str).str.contains('|'.join(sni_list), na=False)]\n",
    "    except AttributeError:\n",
    "        raise ValueError(f\"Invalid SNI Column: {df[~df['SNI'].apply(lambda x: isinstance(x, str))]}\")\n",
    "    df['Label'] = app_name\n",
    "    df = df.sort_values(by=['Rx-Bytes'], axis=0, ascending=False)[:TOP_N_FLOWS]\n",
    "    return df"
   ]
  },
  {
   "cell_type": "code",
   "execution_count": null,
   "id": "ff6196c0",
   "metadata": {},
   "outputs": [],
   "source": [
    "df_arr = []\n",
    "\n",
    "for csv_file in csv_files:\n",
    "    parts = csv_file.parts\n",
    "    app_name, device, network, filename = parts[1:5]\n",
    "    \n",
    "    if app_name == \"instagram_tls\":\n",
    "        app_name = \"instagram\"\n",
    "    elif app_name.lower() == \"bittorrent\":\n",
    "        continue\n",
    "    elif app_name.lower() == \"bittorrentutp\":\n",
    "        continue\n",
    "    else:\n",
    "        df_arr.append(get_flow(csv_file, app_name))\n",
    "\n",
    "sys_df = pd.concat(df_arr, axis = 0).reset_index(drop=True)\n",
    "sys_df[\"SPLT-Data\"] = sys_df[\"SPLT-Data\"].apply(\n",
    "    lambda x : [int(tmp[1:-1]) for tmp in str(x)[1:-1].split(\", \")]\n",
    ")"
   ]
  },
  {
   "cell_type": "code",
   "execution_count": 8,
   "id": "11d6ff80",
   "metadata": {},
   "outputs": [
    {
     "data": {
      "text/plain": [
       "Label\n",
       "netflix        1540\n",
       "wavve           842\n",
       "youtube_tls     437\n",
       "navertv         313\n",
       "instagram       272\n",
       "soop            270\n",
       "coupangplay     242\n",
       "steam           132\n",
       "youtube          96\n",
       "Name: count, dtype: int64"
      ]
     },
     "execution_count": 8,
     "metadata": {},
     "output_type": "execute_result"
    }
   ],
   "source": [
    "sys_df[\"Label\"].value_counts()"
   ]
  },
  {
   "cell_type": "code",
   "execution_count": 9,
   "id": "87b26b1d-2cc8-4f60-b81c-e4fdc37f503a",
   "metadata": {},
   "outputs": [],
   "source": [
    "# [Desc.] :: Builds Bytes Sequence\n",
    "\n",
    "sys_df[f\"First{FIRST_PKT_N}BytesArr\"] = sys_df[\"SPLT-Data\"].apply(lambda x : np.array([int(flow) for flow in x]))"
   ]
  },
  {
   "cell_type": "code",
   "execution_count": 10,
   "id": "759ba1be-a310-48ae-83e5-01958a38272f",
   "metadata": {},
   "outputs": [],
   "source": [
    "# [Desc.] :: Builds Bytes Sequence\n",
    "\n",
    "sys_df[f\"First{FIRST_PKT_N}BytesArr_In\"] = [x[x > 0][:FIRST_PKT_N] for x in sys_df[f\"First{FIRST_PKT_N}BytesArr\"]]\n",
    "sys_df[f\"First{FIRST_PKT_N}BytesArr_Out\"] = [x[x < 0][:FIRST_PKT_N] for x in sys_df[f\"First{FIRST_PKT_N}BytesArr\"]]\n",
    "sys_df[f\"First{FIRST_PKT_N}BytesArr\"] = [x[:FIRST_PKT_N] for x in sys_df[f\"First{FIRST_PKT_N}BytesArr\"]]"
   ]
  },
  {
   "cell_type": "code",
   "execution_count": 11,
   "id": "ebe2126c-4fb7-478b-bfc5-b8d867a71c8d",
   "metadata": {},
   "outputs": [],
   "source": [
    "# [Desc.] :: Remove Flows under Specific Length\n",
    "\n",
    "sys_df = sys_df[sys_df[f\"First{FIRST_PKT_N}BytesArr\"].apply(len) >= MIN_FLOW_LEN].reset_index(drop=True)"
   ]
  },
  {
   "cell_type": "code",
   "execution_count": 12,
   "id": "3192fd6d-a81f-4499-96c7-fad2fc38b811",
   "metadata": {},
   "outputs": [],
   "source": [
    "# [Desc.] :: Frequency Based Discretizing\n",
    "\n",
    "def discretize_values(value, disc_range):\n",
    "    if value == 0:\n",
    "        return DISC_RANGE\n",
    "\n",
    "    return int( (np.searchsorted(disc_range, value, side='right') - 1) + (1 if value > 0 else 0) )"
   ]
  },
  {
   "cell_type": "code",
   "execution_count": 13,
   "id": "f0f83b3d-3f44-4be3-a0ca-aea1b07da5c8",
   "metadata": {},
   "outputs": [],
   "source": [
    "# [Desc.] :: Get <Label name-index> dict.\n",
    "\n",
    "label_dict = {}\n",
    "for idx, key in enumerate(sorted(sys_df[\"Label\"].unique())):\n",
    "    label_dict[key] = idx"
   ]
  },
  {
   "cell_type": "code",
   "execution_count": 14,
   "id": "4415be25-b6a7-47d6-818e-a2369d7a1372",
   "metadata": {
    "scrolled": true
   },
   "outputs": [
    {
     "name": "stdout",
     "output_type": "stream",
     "text": [
      "0.7585441906070388\n",
      "0.0051 MB [VEC_LEN =  5, N_GRAM = 2] Precision :: 0.8545 | Recall :: 0.7703 | F1 :: 0.7571 || acc. :: 0.8638    | 0.00000000 Sec/Data\n",
      "\n",
      "0.8490545417500918\n",
      "0.005 MB [VEC_LEN = 10, N_GRAM = 2] Precision :: 0.9052 | Recall :: 0.8436 | F1 :: 0.8480 || acc. :: 0.9196    | 0.00000000 Sec/Data\n",
      "\n",
      "0.8854191539211711\n",
      "0.005 MB [VEC_LEN = 15, N_GRAM = 2] Precision :: 0.9300 | Recall :: 0.8739 | F1 :: 0.8846 || acc. :: 0.9390    | 0.00000000 Sec/Data\n",
      "\n",
      "0.854478605932874\n",
      "0.005 MB [VEC_LEN = 20, N_GRAM = 2] Precision :: 0.9123 | Recall :: 0.8361 | F1 :: 0.8511 || acc. :: 0.9253    | 0.00000001 Sec/Data\n",
      "\n",
      "0.8102916699539874\n",
      "0.005 MB [VEC_LEN = 25, N_GRAM = 2] Precision :: 0.8838 | Recall :: 0.7900 | F1 :: 0.8063 || acc. :: 0.9064    | 0.00000000 Sec/Data\n",
      "\n",
      "0.7623932669387428\n",
      "0.005 MB [VEC_LEN = 30, N_GRAM = 2] Precision :: 0.8849 | Recall :: 0.7480 | F1 :: 0.7586 || acc. :: 0.8767    | 0.00000000 Sec/Data\n",
      "\n",
      "=====================================\n",
      "0.9117017903900295\n",
      "0.0377 MB [VEC_LEN =  5, N_GRAM = 3] Precision :: 0.9430 | Recall :: 0.9108 | F1 :: 0.9111 || acc. :: 0.9468    | 0.00000001 Sec/Data\n",
      "\n",
      "0.9689056395427375\n",
      "0.0377 MB [VEC_LEN = 10, N_GRAM = 3] Precision :: 0.9771 | Recall :: 0.9633 | F1 :: 0.9687 || acc. :: 0.9837    | 0.00000001 Sec/Data\n",
      "\n",
      "0.9750693696948505\n",
      "0.0377 MB [VEC_LEN = 15, N_GRAM = 3] Precision :: 0.9838 | Recall :: 0.9683 | F1 :: 0.9748 || acc. :: 0.9891    | 0.00000001 Sec/Data\n",
      "\n",
      "0.9813221775217175\n",
      "0.0377 MB [VEC_LEN = 20, N_GRAM = 3] Precision :: 0.9869 | Recall :: 0.9764 | F1 :: 0.9811 || acc. :: 0.9915    | 0.00000001 Sec/Data\n",
      "\n",
      "0.976385716960209\n",
      "0.0377 MB [VEC_LEN = 25, N_GRAM = 3] Precision :: 0.9849 | Recall :: 0.9696 | F1 :: 0.9760 || acc. :: 0.9899    | 0.00000001 Sec/Data\n",
      "\n",
      "0.9793002055923391\n",
      "0.0377 MB [VEC_LEN = 30, N_GRAM = 3] Precision :: 0.9853 | Recall :: 0.9744 | F1 :: 0.9789 || acc. :: 0.9904    | 0.00000001 Sec/Data\n",
      "\n",
      "=====================================\n",
      "0.908969137788606\n",
      "0.7575 MB [VEC_LEN =  5, N_GRAM = 4] Precision :: 0.9484 | Recall :: 0.8961 | F1 :: 0.9079 || acc. :: 0.9543    | 0.00000007 Sec/Data\n",
      "\n",
      "0.9855797575644704\n",
      "0.7575 MB [VEC_LEN = 10, N_GRAM = 4] Precision :: 0.9903 | Recall :: 0.9811 | F1 :: 0.9850 || acc. :: 0.9920    | 0.00000007 Sec/Data\n",
      "\n",
      "0.9868433502613038\n",
      "0.7575 MB [VEC_LEN = 15, N_GRAM = 4] Precision :: 0.9917 | Recall :: 0.9824 | F1 :: 0.9866 || acc. :: 0.9946    | 0.00000007 Sec/Data\n",
      "\n",
      "0.9844690410595871\n",
      "0.7575 MB [VEC_LEN = 20, N_GRAM = 4] Precision :: 0.9916 | Recall :: 0.9782 | F1 :: 0.9840 || acc. :: 0.9948    | 0.00000007 Sec/Data\n",
      "\n",
      "0.9856698588570586\n",
      "0.7575 MB [VEC_LEN = 25, N_GRAM = 4] Precision :: 0.9919 | Recall :: 0.9800 | F1 :: 0.9852 || acc. :: 0.9951    | 0.00000006 Sec/Data\n",
      "\n",
      "0.9877314081743128\n",
      "0.7575 MB [VEC_LEN = 30, N_GRAM = 4] Precision :: 0.9935 | Recall :: 0.9825 | F1 :: 0.9873 || acc. :: 0.9959    | 0.00000007 Sec/Data\n",
      "\n",
      "=====================================\n",
      "0.9374424438394227\n",
      "16.5911 MB [VEC_LEN =  5, N_GRAM = 5] Precision :: 0.9596 | Recall :: 0.9275 | F1 :: 0.9364 || acc. :: 0.9703    | 0.00000180 Sec/Data\n",
      "\n",
      "0.9805317728172391\n",
      "16.5912 MB [VEC_LEN = 10, N_GRAM = 5] Precision :: 0.9890 | Recall :: 0.9728 | F1 :: 0.9800 || acc. :: 0.9871    | 0.00000173 Sec/Data\n",
      "\n",
      "0.9857879032722092\n",
      "16.5912 MB [VEC_LEN = 15, N_GRAM = 5] Precision :: 0.9928 | Recall :: 0.9795 | F1 :: 0.9855 || acc. :: 0.9946    | 0.00000175 Sec/Data\n",
      "\n",
      "0.988447008768763\n",
      "16.5912 MB [VEC_LEN = 20, N_GRAM = 5] Precision :: 0.9945 | Recall :: 0.9829 | F1 :: 0.9882 || acc. :: 0.9959    | 0.00000180 Sec/Data\n",
      "\n",
      "0.9882871065541158\n",
      "16.5912 MB [VEC_LEN = 25, N_GRAM = 5] Precision :: 0.9940 | Recall :: 0.9832 | F1 :: 0.9881 || acc. :: 0.9961    | 0.00000174 Sec/Data\n",
      "\n",
      "0.9898569622286829\n",
      "16.5912 MB [VEC_LEN = 30, N_GRAM = 5] Precision :: 0.9950 | Recall :: 0.9850 | F1 :: 0.9895 || acc. :: 0.9966    | 0.00000177 Sec/Data\n",
      "\n",
      "=====================================\n"
     ]
    }
   ],
   "source": [
    "# [Desc.] :: Train & Test Bitmap Classifier\n",
    "\n",
    "# Parameters\n",
    "N_gram_res = []\n",
    "best_res = {'score': 0}\n",
    "N_GRAM = 4\n",
    "\n",
    "for N_GRAM in range(2, 6):\n",
    "    grid_res = []\n",
    "    for VEC_LEN in range(5, 31, 5):\n",
    "        tmp_arr = []\n",
    "        \n",
    "        X, y = sys_df[f\"First{FIRST_PKT_N}BytesArr\"].to_numpy(), sys_df[f\"Label\"].to_numpy()\n",
    "        \n",
    "        # N-Fold Cross Validation\n",
    "        skf = StratifiedKFold(n_splits=N_FOLD, shuffle=True, random_state=42)\n",
    "        \n",
    "        max_score_arr = []\n",
    "        \n",
    "        # Train & Test\n",
    "        merged_y_test = np.array([])\n",
    "        merged_y_pred = np.array([])\n",
    "        merged_cls_score_arr = []\n",
    "        bitmap_record = []\n",
    "        disc_record = []\n",
    "        \n",
    "        sys_test_idx_arr = np.array([])\n",
    "        \n",
    "        pre, rec, f1, acc, test_time = 0, 0, 0, 0, 0\n",
    "        for i, (train_index, test_index) in enumerate(skf.split(X, y)):\n",
    "\n",
    "            # Merging test data of all folds\n",
    "            sys_test_idx_arr = np.hstack([sys_test_idx_arr, test_index])\n",
    "\n",
    "            # Get Train & Test data of current fold\n",
    "            X_train = sys_df.iloc[train_index].reset_index(drop=True)\n",
    "            X_test = sys_df.iloc[test_index].reset_index(drop=True)\n",
    "\n",
    "            # Frequency-based Discretizing\n",
    "            tmp = np.hstack(X_train[f\"First{FIRST_PKT_N}BytesArr\"])\n",
    "            neg_l, neg_disc_range = pd.qcut(tmp[tmp < 0], q=DISC_RANGE-1, retbins=True, labels=False, duplicates='drop')\n",
    "            pos_l, pos_disc_range = pd.qcut(tmp[tmp > 0], q=DISC_RANGE-1, retbins=True, labels=False, duplicates='drop')\n",
    "            disc_range = np.hstack([[-np.inf], neg_disc_range, [0], pos_disc_range, [np.inf]])\n",
    "            disc_record.append(disc_range)\n",
    "\n",
    "            # Discretizing train & test data\n",
    "            X_train[\"Desc_freq\"] = X_train[f\"First{FIRST_PKT_N}BytesArr\"].apply(lambda seq: [discretize_values(tmp, disc_range) for tmp in seq])\n",
    "            X_train[\"Desc_freq_In\"] = X_train[f\"First{FIRST_PKT_N}BytesArr_In\"].apply(lambda seq: [discretize_values(tmp, disc_range) for tmp in seq])\n",
    "            X_train[\"Desc_freq_Out\"] = X_train[f\"First{FIRST_PKT_N}BytesArr_Out\"].apply(lambda seq: [discretize_values(tmp, disc_range) for tmp in seq])\n",
    "\n",
    "            X_test[\"Desc_freq\"] = X_test[f\"First{FIRST_PKT_N}BytesArr\"].apply(lambda seq: [discretize_values(tmp, disc_range) for tmp in seq])\n",
    "            X_test[\"Desc_freq_In\"] = X_test[f\"First{FIRST_PKT_N}BytesArr_In\"].apply(lambda seq: [discretize_values(tmp, disc_range) for tmp in seq])\n",
    "            X_test[\"Desc_freq_Out\"] = X_test[f\"First{FIRST_PKT_N}BytesArr_Out\"].apply(lambda seq: [discretize_values(tmp, disc_range) for tmp in seq])\n",
    "\n",
    "            # Call Classifier class\n",
    "            bitmap_classifier = BitmapClassifier(len(disc_range), VEC_LEN, N_GRAM, len(label_dict.keys()))\n",
    "\n",
    "            # Data factoring\n",
    "            X_train, y_train = bitmap_classifier.data_factoring(X_train)\n",
    "            X_test, y_test = bitmap_classifier.data_factoring(X_test)\n",
    "\n",
    "            # Bitmap insertion (Encoding)\n",
    "            bitmap_classifier.clear()\n",
    "            bitmap_classifier.train(X_train, y_train)\n",
    "            bitmap_record.append((bitmap_classifier.bitmap_total, bitmap_classifier.bitmap_in, bitmap_classifier.bitmap_out))\n",
    "            \n",
    "            # Test (Decoding)\n",
    "            start = time()\n",
    "            y_pred, tmp_max_score_arr, cls_score_arr = bitmap_classifier.test(X_test)\n",
    "            test_time += (time() - start) / len(X_test)\n",
    "\n",
    "            # Merging Predict result\n",
    "            max_score_arr += tmp_max_score_arr\n",
    "            merged_y_test = np.hstack([merged_y_test, y_test])\n",
    "            merged_y_pred = np.hstack([merged_y_pred, y_pred])\n",
    "            merged_cls_score_arr += cls_score_arr\n",
    "        \n",
    "            \n",
    "            # Sum. Scores\n",
    "            pre += precision_score(y_test, y_pred, average='macro')\n",
    "            rec += recall_score(y_test, y_pred, average='macro')\n",
    "            f1 += f1_score(y_test, y_pred, average='macro') \n",
    "            acc += accuracy_score(y_test, y_pred) \n",
    "        \n",
    "        # Print Averaged Score.\n",
    "        print(f1_score(merged_y_test, merged_y_pred, average='macro') )\n",
    "        print(round(asizeof.asizeof(bitmap_classifier) / 2**20, 4), \"MB\", end=\" \")\n",
    "        print(f\"[VEC_LEN ={VEC_LEN:>3}, N_GRAM ={N_GRAM:>2}] Precision :: {pre / N_FOLD:.4f} | Recall :: {rec / N_FOLD:.4f} | F1 :: {f1 / N_FOLD:.4f} || acc. :: {acc / N_FOLD:.4f}    | {test_time / N_FOLD / len(X_test):.8f} Sec/Data\")\n",
    "\n",
    "        tmp_arr.append( (pre / N_FOLD, rec / N_FOLD, f1 / N_FOLD) )\n",
    "\n",
    "        # Recording Best output Data\n",
    "        if f1/N_FOLD > best_res['score']:\n",
    "            best_res['VEC_LEN'] = VEC_LEN\n",
    "            best_res['N_GRAM'] = N_GRAM\n",
    "            best_res['y_pred'] = merged_y_pred\n",
    "            best_res['y_test'] = merged_y_test\n",
    "            best_res['score'] = f1/N_FOLD\n",
    "            best_res['bitmap'] = bitmap_record[-1]\n",
    "            best_res['score_arr'] = max_score_arr\n",
    "            best_res['cls_score_arr'] = merged_cls_score_arr\n",
    "            best_res['disc'] = disc_record[-1]\n",
    "            best_res['class'] = [key for key in label_dict.keys()]\n",
    "\n",
    "        grid_res.append(tmp_arr)\n",
    "        print()\n",
    "    N_gram_res.append(grid_res)\n",
    "    print(\"=====================================\")"
   ]
  },
  {
   "cell_type": "code",
   "execution_count": 20,
   "id": "855f5444",
   "metadata": {},
   "outputs": [
    {
     "data": {
      "image/png": "[encoded data removed]",
      "text/plain": [
       "<Figure size 1200x800 with 1 Axes>"
      ]
     },
     "metadata": {},
     "output_type": "display_data"
    }
   ],
   "source": [
    "import matplotlib.pyplot as plt\n",
    "\n",
    "vec_len_values = list(range(5, 31, 5))\n",
    "n_gram_values = list(range(2, 6))  # 2, 3, 4, 5\n",
    "\n",
    "plt.figure(figsize=(12, 8))\n",
    "\n",
    "# 각 N_GRAM 값에 대해 선 그래프 추가\n",
    "for n_idx, N_GRAM in enumerate(n_gram_values):\n",
    "    f1_scores = [N_gram_res[n_idx][v_idx][0][2] for v_idx in range(len(vec_len_values))]\n",
    "    plt.plot(vec_len_values, f1_scores, marker='o', label=f'N_GRAM = {N_GRAM}')\n",
    "\n",
    "# 그래프 설정\n",
    "plt.title('F1 Score vs K for Different N_GRAM Values', fontsize=14)\n",
    "plt.xlabel('K', fontsize=12)\n",
    "plt.ylabel('F1 Score (Macro)', fontsize=12)\n",
    "plt.xticks(vec_len_values)\n",
    "plt.grid(True)\n",
    "plt.legend(title='N_GRAM')\n",
    "plt.tight_layout()\n",
    "plt.show()"
   ]
  },
  {
   "cell_type": "code",
   "execution_count": 16,
   "id": "08b98911",
   "metadata": {},
   "outputs": [
    {
     "data": {
      "text/plain": [
       "30"
      ]
     },
     "execution_count": 16,
     "metadata": {},
     "output_type": "execute_result"
    }
   ],
   "source": [
    "best_res['VEC_LEN']"
   ]
  },
  {
   "cell_type": "code",
   "execution_count": 17,
   "id": "3032c3cb",
   "metadata": {},
   "outputs": [
    {
     "data": {
      "text/plain": [
       "array([      -inf, -1.460e+03, -1.448e+03, -1.400e+03, -1.141e+03,\n",
       "       -9.900e+02, -6.810e+02, -5.170e+02, -3.480e+02, -1.350e+02,\n",
       "       -6.400e+01, -3.400e+01, -1.000e+00,  0.000e+00,  1.000e+00,\n",
       "        4.190e+02,  1.250e+03,  1.400e+03,  1.448e+03,  1.460e+03,\n",
       "        1.600e+03,        inf])"
      ]
     },
     "execution_count": 17,
     "metadata": {},
     "output_type": "execute_result"
    }
   ],
   "source": [
    "best_res['disc']"
   ]
  },
  {
   "cell_type": "code",
   "execution_count": 18,
   "id": "8ee77410",
   "metadata": {},
   "outputs": [],
   "source": [
    "import pickle\n",
    "from datetime import datetime\n",
    "\n",
    "now = datetime.now().strftime(\"%m%d_%H%M\")\n",
    "\n",
    "# 저장\n",
    "with open(f\"pkl/bitmap_{now}.pkl\", \"wb\") as f:\n",
    "    pickle.dump(best_res, f)"
   ]
  },
  {
   "cell_type": "code",
   "execution_count": 19,
   "id": "a396a675-fe68-4ccc-9589-66598142ab3f",
   "metadata": {},
   "outputs": [
    {
     "name": "stdout",
     "output_type": "stream",
     "text": [
      "|        Answer        |       Predict        | [0] [1] [2] [3] [4] [5] [6] [7] [8] [9] |\n",
      "|=======================================================================================|\n",
      "| [4] soop             | [0] coupangplay      |  36   9  14   4  35  15   5   5  19 |\n",
      "| [0] coupangplay      | [2] navertv          |  39  11  43  18  21  22  14   4   7 |\n",
      "| [2] navertv          | [3] netflix          |   8   5   9  13  13   6  13   0   5 |\n",
      "| [7] youtube          | [1] instagram        |   4   9   2   0   4   0   0   9   0 |\n",
      "| [5] steam            | [0] coupangplay      |  26  13  10   8  19  21   9   1  12 |\n",
      "| [5] steam            | [8] youtube_tls      |  21   0   3   0   8  23   0   1  25 |\n",
      "| [1] instagram        | [0] coupangplay      |   8   7   5   5   4   8   5   0   7 |\n",
      "| [7] youtube          | [0] coupangplay      |  24   0   2   1  13   5   4   0  24 |\n",
      "| [5] steam            | [0] coupangplay      |  28   5  22  20  18  24  21   0   9 |\n",
      "| [6] wavve            | [3] netflix          |  10   4  11  16   6   1  14   0   3 |\n",
      "| [5] steam            | [0] coupangplay      |  33  14  19  10  19  26   1   5  10 |\n",
      "| [5] steam            | [0] coupangplay      |  34   9  23   8  23  28   2   3  21 |\n",
      "| [0] coupangplay      | [2] navertv          |  33   7  34  22  16  18  15   6  14 |\n",
      "|=======================================================================================|\n"
     ]
    }
   ],
   "source": [
    "y_2_label = dict([b, a] for (a, b) in label_dict.items())\n",
    "\n",
    "fail_arr = np.where(best_res['y_test'] != best_res['y_pred'])[0]\n",
    "\n",
    "ctgr = f\"| {'Answer':^20} | {'Predict':^20} | \" + ' '.join( [ f\"{'['+str(a)+']'}\" for a in range(10)] ) + \" |\"\n",
    "\n",
    "print(ctgr)\n",
    "print(\"|\" + \"=\" * (len(ctgr)-2) + \"|\")\n",
    "for idx in fail_arr:\n",
    "    print(\n",
    "        f\"| {'['+str(int(best_res['y_test'][idx]))+'] '+y_2_label[int(best_res['y_test'][idx])]:<20} | {'['+str(int(best_res['y_pred'][idx]))+'] '+y_2_label[int(best_res['y_pred'][idx])]:<20} | {' '.join([f'{tmp:>3}' for tmp in best_res['cls_score_arr'][idx]])}\" + \" |\"\n",
    "    )\n",
    "\n",
    "\n",
    "print(\"|\" + \"=\" * (len(ctgr)-2) + \"|\")"
   ]
  },
  {
   "cell_type": "code",
   "execution_count": null,
   "id": "a06b62c7",
   "metadata": {},
   "outputs": [],
   "source": []
  },
  {
   "cell_type": "code",
   "execution_count": null,
   "id": "6d870846",
   "metadata": {},
   "outputs": [],
   "source": []
  }
 ],
 "metadata": {
  "kernelspec": {
   "display_name": "Python 3",
   "language": "python",
   "name": "python3"
  },
  "language_info": {
   "codemirror_mode": {
    "name": "ipython",
    "version": 3
   },
   "file_extension": ".py",
   "mimetype": "text/x-python",
   "name": "python",
   "nbconvert_exporter": "python",
   "pygments_lexer": "ipython3",
   "version": "3.9.6"
  }
 },
 "nbformat": 4,
 "nbformat_minor": 5
}
